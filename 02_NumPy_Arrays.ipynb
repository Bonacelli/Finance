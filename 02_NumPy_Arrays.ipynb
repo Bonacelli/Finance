{
  "nbformat": 4,
  "nbformat_minor": 0,
  "metadata": {
    "anaconda-cloud": {},
    "kernelspec": {
      "display_name": "Python 3",
      "language": "python",
      "name": "python3"
    },
    "language_info": {
      "codemirror_mode": {
        "name": "ipython",
        "version": 3
      },
      "file_extension": ".py",
      "mimetype": "text/x-python",
      "name": "python",
      "nbconvert_exporter": "python",
      "pygments_lexer": "ipython3",
      "version": "3.7.7"
    },
    "colab": {
      "name": "01 NumPy Arrays.ipynb",
      "provenance": [],
      "collapsed_sections": [],
      "include_colab_link": true
    }
  },
  "cells": [
    {
      "cell_type": "markdown",
      "metadata": {
        "id": "view-in-github",
        "colab_type": "text"
      },
      "source": [
        "<a href=\"https://colab.research.google.com/github/Bonacelli/Finance/blob/main/01_NumPy_Arrays.ipynb\" target=\"_parent\"><img src=\"https://colab.research.google.com/assets/colab-badge.svg\" alt=\"Open In Colab\"/></a>"
      ]
    },
    {
      "cell_type": "markdown",
      "metadata": {
        "id": "JE136SS-78XO"
      },
      "source": [
        "# NumPy \n",
        "\n",
        "NumPy é uma Biblioteca de Álgebra Linear para Python muito rápida pois tem seu *core* implementado em C.\n",
        "\n",
        "É a base de muitas outras bibliotecas, como o Pandas que vamos ver a seguir.\n",
        "\n",
        "Documentação oficial: https://numpy.org/doc/stable/"
      ]
    },
    {
      "cell_type": "code",
      "metadata": {
        "id": "wYkDbteR78XP"
      },
      "source": [
        "import numpy as np"
      ],
      "execution_count": 1,
      "outputs": []
    },
    {
      "cell_type": "markdown",
      "metadata": {
        "id": "MjlM-bZy78XT"
      },
      "source": [
        "## **1. Criando Numpy Arrays**"
      ]
    },
    {
      "cell_type": "markdown",
      "metadata": {
        "id": "XkmrA8Zrmu1Y"
      },
      "source": [
        "### **1.1 A partir de listas**"
      ]
    },
    {
      "cell_type": "code",
      "metadata": {
        "id": "4xSgXdD378XU"
      },
      "source": [
        "lista = [1,2,3]"
      ],
      "execution_count": 2,
      "outputs": []
    },
    {
      "cell_type": "code",
      "metadata": {
        "id": "qbo-xVWQ78Xd",
        "colab": {
          "base_uri": "https://localhost:8080/"
        },
        "outputId": "4b39476d-8d8f-4322-ca4f-20ddf05da14e"
      },
      "source": [
        "lista"
      ],
      "execution_count": 3,
      "outputs": [
        {
          "output_type": "execute_result",
          "data": {
            "text/plain": [
              "[1, 2, 3]"
            ]
          },
          "metadata": {
            "tags": []
          },
          "execution_count": 3
        }
      ]
    },
    {
      "cell_type": "code",
      "metadata": {
        "id": "hHb85Izw5bQn"
      },
      "source": [
        "np_array = np.array(lista)"
      ],
      "execution_count": 4,
      "outputs": []
    },
    {
      "cell_type": "code",
      "metadata": {
        "id": "wzrchRE35f9X",
        "colab": {
          "base_uri": "https://localhost:8080/"
        },
        "outputId": "6c5ced58-2de5-4ce6-b9d2-a28596b2cc62"
      },
      "source": [
        "np_array"
      ],
      "execution_count": 5,
      "outputs": [
        {
          "output_type": "execute_result",
          "data": {
            "text/plain": [
              "array([1, 2, 3])"
            ]
          },
          "metadata": {
            "tags": []
          },
          "execution_count": 5
        }
      ]
    },
    {
      "cell_type": "code",
      "metadata": {
        "id": "rd1adN7o5mh6",
        "colab": {
          "base_uri": "https://localhost:8080/"
        },
        "outputId": "bd60855d-db37-48ae-d6e3-68280aefebbd"
      },
      "source": [
        "type(np_array)"
      ],
      "execution_count": 6,
      "outputs": [
        {
          "output_type": "execute_result",
          "data": {
            "text/plain": [
              "numpy.ndarray"
            ]
          },
          "metadata": {
            "tags": []
          },
          "execution_count": 6
        }
      ]
    },
    {
      "cell_type": "markdown",
      "metadata": {
        "id": "fI317uZB78Xh"
      },
      "source": [
        "### **1.2 Através de métodos internos**"
      ]
    },
    {
      "cell_type": "markdown",
      "metadata": {
        "id": "k-0ls8O178Xi"
      },
      "source": [
        "#### **arange**\n",
        "\n",
        "Para um dado intervalo retorna valores igualmente espaçados a partir de um incremento fixo\n",
        "\n",
        "`np.arange([start], [stop], [step], [dtype=None])`\n",
        "\n"
      ]
    },
    {
      "cell_type": "code",
      "metadata": {
        "id": "ABvxDXTz78Xj",
        "colab": {
          "base_uri": "https://localhost:8080/"
        },
        "outputId": "d45258fc-5e4f-4e1a-9920-36e6ee156ce9"
      },
      "source": [
        "np.arange(0,10)"
      ],
      "execution_count": 7,
      "outputs": [
        {
          "output_type": "execute_result",
          "data": {
            "text/plain": [
              "array([0, 1, 2, 3, 4, 5, 6, 7, 8, 9])"
            ]
          },
          "metadata": {
            "tags": []
          },
          "execution_count": 7
        }
      ]
    },
    {
      "cell_type": "code",
      "metadata": {
        "id": "K5uLeXvj78Xn",
        "colab": {
          "base_uri": "https://localhost:8080/"
        },
        "outputId": "b2b37207-9271-475b-80f5-991248d4653e"
      },
      "source": [
        "np.arange(0,10, 0.1)"
      ],
      "execution_count": 8,
      "outputs": [
        {
          "output_type": "execute_result",
          "data": {
            "text/plain": [
              "array([0. , 0.1, 0.2, 0.3, 0.4, 0.5, 0.6, 0.7, 0.8, 0.9, 1. , 1.1, 1.2,\n",
              "       1.3, 1.4, 1.5, 1.6, 1.7, 1.8, 1.9, 2. , 2.1, 2.2, 2.3, 2.4, 2.5,\n",
              "       2.6, 2.7, 2.8, 2.9, 3. , 3.1, 3.2, 3.3, 3.4, 3.5, 3.6, 3.7, 3.8,\n",
              "       3.9, 4. , 4.1, 4.2, 4.3, 4.4, 4.5, 4.6, 4.7, 4.8, 4.9, 5. , 5.1,\n",
              "       5.2, 5.3, 5.4, 5.5, 5.6, 5.7, 5.8, 5.9, 6. , 6.1, 6.2, 6.3, 6.4,\n",
              "       6.5, 6.6, 6.7, 6.8, 6.9, 7. , 7.1, 7.2, 7.3, 7.4, 7.5, 7.6, 7.7,\n",
              "       7.8, 7.9, 8. , 8.1, 8.2, 8.3, 8.4, 8.5, 8.6, 8.7, 8.8, 8.9, 9. ,\n",
              "       9.1, 9.2, 9.3, 9.4, 9.5, 9.6, 9.7, 9.8, 9.9])"
            ]
          },
          "metadata": {
            "tags": []
          },
          "execution_count": 8
        }
      ]
    },
    {
      "cell_type": "markdown",
      "metadata": {
        "id": "qjeWEWzj78X6"
      },
      "source": [
        "#### **linspace**\n",
        "Para um dado intervalo retorna valores igualmente espaçados a partir do número total de elementos fornecidos\n",
        "\n",
        "`linspace(start, stop, num=50, endpoint=True, retstep=False, dtype=None, axis=0)`"
      ]
    },
    {
      "cell_type": "code",
      "metadata": {
        "id": "c-jpI2i878X7",
        "colab": {
          "base_uri": "https://localhost:8080/"
        },
        "outputId": "2ba81bcf-b805-4f0d-fd97-44cf298217bf"
      },
      "source": [
        "np.linspace(0,10,20)"
      ],
      "execution_count": 9,
      "outputs": [
        {
          "output_type": "execute_result",
          "data": {
            "text/plain": [
              "array([ 0.        ,  0.52631579,  1.05263158,  1.57894737,  2.10526316,\n",
              "        2.63157895,  3.15789474,  3.68421053,  4.21052632,  4.73684211,\n",
              "        5.26315789,  5.78947368,  6.31578947,  6.84210526,  7.36842105,\n",
              "        7.89473684,  8.42105263,  8.94736842,  9.47368421, 10.        ])"
            ]
          },
          "metadata": {
            "tags": []
          },
          "execution_count": 9
        }
      ]
    },
    {
      "cell_type": "code",
      "metadata": {
        "id": "mT2Mlc3t78X9",
        "colab": {
          "base_uri": "https://localhost:8080/"
        },
        "outputId": "e40440da-8254-4792-8577-37e467d69ae0"
      },
      "source": [
        "np.linspace(0,10,20, endpoint=False)"
      ],
      "execution_count": 10,
      "outputs": [
        {
          "output_type": "execute_result",
          "data": {
            "text/plain": [
              "array([0. , 0.5, 1. , 1.5, 2. , 2.5, 3. , 3.5, 4. , 4.5, 5. , 5.5, 6. ,\n",
              "       6.5, 7. , 7.5, 8. , 8.5, 9. , 9.5])"
            ]
          },
          "metadata": {
            "tags": []
          },
          "execution_count": 10
        }
      ]
    },
    {
      "cell_type": "markdown",
      "metadata": {
        "id": "wlD34x8E78Xq"
      },
      "source": [
        "#### **zeros e uns**\n",
        "\n",
        "Gerando arrays de zeros ou uns\n",
        "\n",
        "`zeros(shape, dtype=float, order='C')`\n",
        "\n",
        "`ones(shape, dtype=None, order='C')`"
      ]
    },
    {
      "cell_type": "code",
      "metadata": {
        "id": "FNla1YHZ78Xr",
        "colab": {
          "base_uri": "https://localhost:8080/"
        },
        "outputId": "8d789e49-4e84-4c19-cb0e-b44c1eb2e03a"
      },
      "source": [
        "np.zeros(4)"
      ],
      "execution_count": 11,
      "outputs": [
        {
          "output_type": "execute_result",
          "data": {
            "text/plain": [
              "array([0., 0., 0., 0.])"
            ]
          },
          "metadata": {
            "tags": []
          },
          "execution_count": 11
        }
      ]
    },
    {
      "cell_type": "code",
      "metadata": {
        "id": "jqW36yzC78Xt",
        "colab": {
          "base_uri": "https://localhost:8080/"
        },
        "outputId": "13b237b0-f428-4f53-a2f6-b60a3aedc265"
      },
      "source": [
        "np.zeros((3,3))"
      ],
      "execution_count": 12,
      "outputs": [
        {
          "output_type": "execute_result",
          "data": {
            "text/plain": [
              "array([[0., 0., 0.],\n",
              "       [0., 0., 0.],\n",
              "       [0., 0., 0.]])"
            ]
          },
          "metadata": {
            "tags": []
          },
          "execution_count": 12
        }
      ]
    },
    {
      "cell_type": "code",
      "metadata": {
        "id": "PBKebu4A78Xw",
        "colab": {
          "base_uri": "https://localhost:8080/"
        },
        "outputId": "eeda4873-9dd1-4d61-b477-872c7f2d00de"
      },
      "source": [
        "np.ones(5)"
      ],
      "execution_count": 13,
      "outputs": [
        {
          "output_type": "execute_result",
          "data": {
            "text/plain": [
              "array([1., 1., 1., 1., 1.])"
            ]
          },
          "metadata": {
            "tags": []
          },
          "execution_count": 13
        }
      ]
    },
    {
      "cell_type": "code",
      "metadata": {
        "id": "0rEhsg8YpHeF",
        "colab": {
          "base_uri": "https://localhost:8080/"
        },
        "outputId": "377f2d58-4520-4ae3-dcf6-5d78bbba994b"
      },
      "source": [
        "np.ones((4,4))"
      ],
      "execution_count": 14,
      "outputs": [
        {
          "output_type": "execute_result",
          "data": {
            "text/plain": [
              "array([[1., 1., 1., 1.],\n",
              "       [1., 1., 1., 1.],\n",
              "       [1., 1., 1., 1.],\n",
              "       [1., 1., 1., 1.]])"
            ]
          },
          "metadata": {
            "tags": []
          },
          "execution_count": 14
        }
      ]
    },
    {
      "cell_type": "markdown",
      "metadata": {
        "id": "ZBSV4jQZ78YA"
      },
      "source": [
        "#### **Matriz Identidade**\n",
        "\n",
        "Cria uma matriz Identidade\n",
        "\n",
        "`eye(N, M=None, k=0, dtype=float, order='C'`"
      ]
    },
    {
      "cell_type": "code",
      "metadata": {
        "id": "SDiRiGLQ78YA",
        "colab": {
          "base_uri": "https://localhost:8080/"
        },
        "outputId": "53d3db35-02b9-4c55-f255-867ec92ac831"
      },
      "source": [
        "np.eye(5)"
      ],
      "execution_count": 15,
      "outputs": [
        {
          "output_type": "execute_result",
          "data": {
            "text/plain": [
              "array([[1., 0., 0., 0., 0.],\n",
              "       [0., 1., 0., 0., 0.],\n",
              "       [0., 0., 1., 0., 0.],\n",
              "       [0., 0., 0., 1., 0.],\n",
              "       [0., 0., 0., 0., 1.]])"
            ]
          },
          "metadata": {
            "tags": []
          },
          "execution_count": 15
        }
      ]
    },
    {
      "cell_type": "markdown",
      "metadata": {
        "id": "RWJZ6U8378YD"
      },
      "source": [
        "### **1.3 Através do Gerador de Números Aleatórios (Random)**\n",
        "\n",
        "O Numpy também tem várias maneiras de criar matrizes de números aleatórios:"
      ]
    },
    {
      "cell_type": "markdown",
      "metadata": {
        "id": "FT4AiHxVA3sv"
      },
      "source": [
        "#### rand\n",
        "Crie uma matriz de um dado formato e preenche com\n",
        "amostras aleatórias de uma distribuição uniforme\n",
        "sobre `` [0, 1) ``.\n",
        "\n",
        "`rand(d0, d1, ..., dn)`"
      ]
    },
    {
      "cell_type": "code",
      "metadata": {
        "id": "ZCjxujFi78YE",
        "colab": {
          "base_uri": "https://localhost:8080/"
        },
        "outputId": "ff2d7af1-c1ed-47f5-f2ec-fd51c06e9e65"
      },
      "source": [
        "np.random.rand(2)"
      ],
      "execution_count": 16,
      "outputs": [
        {
          "output_type": "execute_result",
          "data": {
            "text/plain": [
              "array([0.08047097, 0.03593906])"
            ]
          },
          "metadata": {
            "tags": []
          },
          "execution_count": 16
        }
      ]
    },
    {
      "cell_type": "code",
      "metadata": {
        "id": "3QzzXI_y78YG",
        "colab": {
          "base_uri": "https://localhost:8080/"
        },
        "outputId": "8c14ef14-c0a9-4cc5-e489-dfa06488396c"
      },
      "source": [
        "np.random.rand(3,3,3)"
      ],
      "execution_count": 17,
      "outputs": [
        {
          "output_type": "execute_result",
          "data": {
            "text/plain": [
              "array([[[0.4166612 , 0.49537274, 0.2006481 ],\n",
              "        [0.65879722, 0.5963937 , 0.52349213],\n",
              "        [0.11465451, 0.91158662, 0.54632547]],\n",
              "\n",
              "       [[0.42455984, 0.29837757, 0.48160962],\n",
              "        [0.61518941, 0.78380469, 0.92859065],\n",
              "        [0.8364836 , 0.02197083, 0.26726078]],\n",
              "\n",
              "       [[0.527708  , 0.9637461 , 0.34711274],\n",
              "        [0.03968638, 0.27940913, 0.78598741],\n",
              "        [0.238915  , 0.14293812, 0.60670832]]])"
            ]
          },
          "metadata": {
            "tags": []
          },
          "execution_count": 17
        }
      ]
    },
    {
      "cell_type": "markdown",
      "metadata": {
        "id": "v6PeNGAE78YJ"
      },
      "source": [
        "#### randn\n",
        "\n",
        "Retorne uma amostra (ou amostras) da distribuição \"normal padrão\". Ao contrário do rand, que é uniforme:\n",
        "\n",
        "`randn(d0, d1, ..., dn)`"
      ]
    },
    {
      "cell_type": "code",
      "metadata": {
        "id": "N4pMLVAc78YJ",
        "colab": {
          "base_uri": "https://localhost:8080/"
        },
        "outputId": "7b06e407-4b00-4e04-8bbc-b0f2ce66ea21"
      },
      "source": [
        "np.random.randn(1)"
      ],
      "execution_count": 18,
      "outputs": [
        {
          "output_type": "execute_result",
          "data": {
            "text/plain": [
              "array([-0.25561718])"
            ]
          },
          "metadata": {
            "tags": []
          },
          "execution_count": 18
        }
      ]
    },
    {
      "cell_type": "code",
      "metadata": {
        "id": "ERgEqnJX78YL",
        "colab": {
          "base_uri": "https://localhost:8080/"
        },
        "outputId": "389a528a-ec16-41f2-999a-547c6623123e"
      },
      "source": [
        "np.random.randn(3,3)"
      ],
      "execution_count": 19,
      "outputs": [
        {
          "output_type": "execute_result",
          "data": {
            "text/plain": [
              "array([[ 1.50395019,  0.20329579,  0.95393145],\n",
              "       [ 0.20744576, -0.16028879,  0.89745974],\n",
              "       [-0.1130521 ,  0.20435255, -0.83666128]])"
            ]
          },
          "metadata": {
            "tags": []
          },
          "execution_count": 19
        }
      ]
    },
    {
      "cell_type": "markdown",
      "metadata": {
        "id": "R3FiQEvr78YN"
      },
      "source": [
        "#### randint\n",
        "\n",
        "Retorna inteiros aleatórios\n",
        "\n",
        "`randint(low, high=None, size=None, dtype=int)`"
      ]
    },
    {
      "cell_type": "code",
      "metadata": {
        "id": "WxUscef378YN",
        "colab": {
          "base_uri": "https://localhost:8080/"
        },
        "outputId": "09e09400-3ac3-4d64-cb52-0115030a597b"
      },
      "source": [
        "np.random.randint(1,10)"
      ],
      "execution_count": 20,
      "outputs": [
        {
          "output_type": "execute_result",
          "data": {
            "text/plain": [
              "4"
            ]
          },
          "metadata": {
            "tags": []
          },
          "execution_count": 20
        }
      ]
    },
    {
      "cell_type": "code",
      "metadata": {
        "id": "wh_LOuXm78YP",
        "colab": {
          "base_uri": "https://localhost:8080/"
        },
        "outputId": "482ff3df-0630-43d3-cb4f-b7b5331960c9"
      },
      "source": [
        "np.random.randint(1,10,3)"
      ],
      "execution_count": 21,
      "outputs": [
        {
          "output_type": "execute_result",
          "data": {
            "text/plain": [
              "array([3, 4, 8])"
            ]
          },
          "metadata": {
            "tags": []
          },
          "execution_count": 21
        }
      ]
    },
    {
      "cell_type": "code",
      "metadata": {
        "id": "Ig_rVp9yuDqr",
        "colab": {
          "base_uri": "https://localhost:8080/"
        },
        "outputId": "f2b6828a-5e3e-40fd-a3ec-cf96414e133c"
      },
      "source": [
        "np.random.randint(1,10,(5,5))"
      ],
      "execution_count": 22,
      "outputs": [
        {
          "output_type": "execute_result",
          "data": {
            "text/plain": [
              "array([[8, 2, 4, 2, 3],\n",
              "       [1, 8, 3, 8, 9],\n",
              "       [3, 7, 8, 6, 9],\n",
              "       [9, 8, 9, 4, 1],\n",
              "       [7, 5, 3, 4, 2]])"
            ]
          },
          "metadata": {
            "tags": []
          },
          "execution_count": 22
        }
      ]
    },
    {
      "cell_type": "markdown",
      "metadata": {
        "id": "e4jLs8Jy78YR"
      },
      "source": [
        "## **2. Atributos e métodos dos Numpy Arrays**"
      ]
    },
    {
      "cell_type": "markdown",
      "metadata": {
        "id": "9DXHNLx078Yg"
      },
      "source": [
        "### Encontrando valores máximos e mínimos\n",
        "\n",
        "`max(), min(), argmax(), argmin()`"
      ]
    },
    {
      "cell_type": "code",
      "metadata": {
        "id": "ATDZ_Kfg78YR"
      },
      "source": [
        "vetor = np.random.randint(1,20, 5)"
      ],
      "execution_count": 23,
      "outputs": []
    },
    {
      "cell_type": "code",
      "metadata": {
        "id": "AMNv2a3o78Yh",
        "colab": {
          "base_uri": "https://localhost:8080/"
        },
        "outputId": "02e92e48-8aba-41f0-b1a7-3d568a48cf01"
      },
      "source": [
        "vetor"
      ],
      "execution_count": 24,
      "outputs": [
        {
          "output_type": "execute_result",
          "data": {
            "text/plain": [
              "array([15,  2, 16,  7, 18])"
            ]
          },
          "metadata": {
            "tags": []
          },
          "execution_count": 24
        }
      ]
    },
    {
      "cell_type": "code",
      "metadata": {
        "id": "nVPOHl6678Yi",
        "colab": {
          "base_uri": "https://localhost:8080/"
        },
        "outputId": "b93393af-cdd6-4fd8-aee4-84728cb8daf5"
      },
      "source": [
        "vetor.max()"
      ],
      "execution_count": 25,
      "outputs": [
        {
          "output_type": "execute_result",
          "data": {
            "text/plain": [
              "18"
            ]
          },
          "metadata": {
            "tags": []
          },
          "execution_count": 25
        }
      ]
    },
    {
      "cell_type": "code",
      "metadata": {
        "id": "6rAVnjH678Yk",
        "colab": {
          "base_uri": "https://localhost:8080/"
        },
        "outputId": "66e2a518-3891-40e7-8155-6db41f8484e8"
      },
      "source": [
        "vetor.argmax()"
      ],
      "execution_count": 26,
      "outputs": [
        {
          "output_type": "execute_result",
          "data": {
            "text/plain": [
              "4"
            ]
          },
          "metadata": {
            "tags": []
          },
          "execution_count": 26
        }
      ]
    },
    {
      "cell_type": "code",
      "metadata": {
        "id": "MK2UOajh78Ym",
        "colab": {
          "base_uri": "https://localhost:8080/"
        },
        "outputId": "a67e6772-977c-445d-e5d1-8cefa99b1b15"
      },
      "source": [
        "vetor.min()"
      ],
      "execution_count": 27,
      "outputs": [
        {
          "output_type": "execute_result",
          "data": {
            "text/plain": [
              "2"
            ]
          },
          "metadata": {
            "tags": []
          },
          "execution_count": 27
        }
      ]
    },
    {
      "cell_type": "code",
      "metadata": {
        "id": "ncRlXjUQ78Yp",
        "colab": {
          "base_uri": "https://localhost:8080/"
        },
        "outputId": "f6f0a1fc-f95a-493c-ea63-714b96810a52"
      },
      "source": [
        "vetor.argmin()"
      ],
      "execution_count": 28,
      "outputs": [
        {
          "output_type": "execute_result",
          "data": {
            "text/plain": [
              "1"
            ]
          },
          "metadata": {
            "tags": []
          },
          "execution_count": 28
        }
      ]
    },
    {
      "cell_type": "markdown",
      "metadata": {
        "id": "Ayx53gaV78Yr"
      },
      "source": [
        "### Alterando o formato da Matriz"
      ]
    },
    {
      "cell_type": "code",
      "metadata": {
        "id": "2JgGkvsdnYax"
      },
      "source": [
        "matriz = np.arange(25)"
      ],
      "execution_count": 29,
      "outputs": []
    },
    {
      "cell_type": "code",
      "metadata": {
        "id": "M7j7j2BW78Yr",
        "colab": {
          "base_uri": "https://localhost:8080/"
        },
        "outputId": "65455299-4bc6-4dad-d6e6-aac9227f46fa"
      },
      "source": [
        "matriz"
      ],
      "execution_count": 30,
      "outputs": [
        {
          "output_type": "execute_result",
          "data": {
            "text/plain": [
              "array([ 0,  1,  2,  3,  4,  5,  6,  7,  8,  9, 10, 11, 12, 13, 14, 15, 16,\n",
              "       17, 18, 19, 20, 21, 22, 23, 24])"
            ]
          },
          "metadata": {
            "tags": []
          },
          "execution_count": 30
        }
      ]
    },
    {
      "cell_type": "code",
      "metadata": {
        "id": "k2rP2BkI78Yd",
        "colab": {
          "base_uri": "https://localhost:8080/"
        },
        "outputId": "ea785e14-3169-4462-a23d-cc5bbecf7315"
      },
      "source": [
        "matriz.shape"
      ],
      "execution_count": 31,
      "outputs": [
        {
          "output_type": "execute_result",
          "data": {
            "text/plain": [
              "(25,)"
            ]
          },
          "metadata": {
            "tags": []
          },
          "execution_count": 31
        }
      ]
    },
    {
      "cell_type": "code",
      "metadata": {
        "id": "OrbrcCHAmjsG",
        "colab": {
          "base_uri": "https://localhost:8080/"
        },
        "outputId": "4d4fe868-59d5-4ad1-964c-e28a02fc9f39"
      },
      "source": [
        "matriz.reshape(5,5)"
      ],
      "execution_count": 32,
      "outputs": [
        {
          "output_type": "execute_result",
          "data": {
            "text/plain": [
              "array([[ 0,  1,  2,  3,  4],\n",
              "       [ 5,  6,  7,  8,  9],\n",
              "       [10, 11, 12, 13, 14],\n",
              "       [15, 16, 17, 18, 19],\n",
              "       [20, 21, 22, 23, 24]])"
            ]
          },
          "metadata": {
            "tags": []
          },
          "execution_count": 32
        }
      ]
    },
    {
      "cell_type": "code",
      "metadata": {
        "id": "5Oh1EkUrcO0x"
      },
      "source": [
        "matriz = matriz.reshape(5,5)"
      ],
      "execution_count": 33,
      "outputs": []
    },
    {
      "cell_type": "code",
      "metadata": {
        "id": "qbYK8l06cSbi",
        "colab": {
          "base_uri": "https://localhost:8080/"
        },
        "outputId": "cc18217d-cf26-4bd0-b0c1-ccd99b3e2a22"
      },
      "source": [
        "matriz.shape"
      ],
      "execution_count": 34,
      "outputs": [
        {
          "output_type": "execute_result",
          "data": {
            "text/plain": [
              "(5, 5)"
            ]
          },
          "metadata": {
            "tags": []
          },
          "execution_count": 34
        }
      ]
    },
    {
      "cell_type": "code",
      "metadata": {
        "id": "_LHQMS-BcbQS"
      },
      "source": [
        ""
      ],
      "execution_count": null,
      "outputs": []
    }
  ]
}
