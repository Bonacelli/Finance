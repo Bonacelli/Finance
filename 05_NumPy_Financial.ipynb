{
  "nbformat": 4,
  "nbformat_minor": 0,
  "metadata": {
    "colab": {
      "name": "05 NumPy Financial.ipynb",
      "provenance": [],
      "collapsed_sections": [],
      "include_colab_link": true
    },
    "kernelspec": {
      "name": "python3",
      "display_name": "Python 3"
    },
    "language_info": {
      "name": "python"
    }
  },
  "cells": [
    {
      "cell_type": "markdown",
      "metadata": {
        "id": "view-in-github",
        "colab_type": "text"
      },
      "source": [
        "<a href=\"https://colab.research.google.com/github/Bonacelli/Finance/blob/main/05_NumPy_Financial.ipynb\" target=\"_parent\"><img src=\"https://colab.research.google.com/assets/colab-badge.svg\" alt=\"Open In Colab\"/></a>"
      ]
    },
    {
      "cell_type": "markdown",
      "metadata": {
        "id": "u0EP0gxSulXp"
      },
      "source": [
        "# NumPy Financial"
      ]
    },
    {
      "cell_type": "markdown",
      "metadata": {
        "id": "d28VmwnwumtG"
      },
      "source": [
        "Documentação: https://numpy.org/numpy-financial/"
      ]
    },
    {
      "cell_type": "code",
      "metadata": {
        "id": "hsPHVoyzNXDc",
        "colab": {
          "base_uri": "https://localhost:8080/"
        },
        "outputId": "c76a9751-ff46-4364-d709-e3c2053bcc8b"
      },
      "source": [
        "!pip install numpy_financial"
      ],
      "execution_count": 1,
      "outputs": [
        {
          "output_type": "stream",
          "text": [
            "Collecting numpy_financial\n",
            "  Downloading https://files.pythonhosted.org/packages/6a/be/d07585e440d58835bad8f1c9ca7823b5252ffeda4c797e653a20215fca65/numpy_financial-1.0.0-py3-none-any.whl\n",
            "Requirement already satisfied: numpy>=1.15 in /usr/local/lib/python3.7/dist-packages (from numpy_financial) (1.19.5)\n",
            "Installing collected packages: numpy-financial\n",
            "Successfully installed numpy-financial-1.0.0\n"
          ],
          "name": "stdout"
        }
      ]
    },
    {
      "cell_type": "code",
      "metadata": {
        "id": "u2TO2evVNbOt"
      },
      "source": [
        "import numpy_financial as npf"
      ],
      "execution_count": 2,
      "outputs": []
    },
    {
      "cell_type": "markdown",
      "metadata": {
        "id": "4nEE3TLJTPRl"
      },
      "source": [
        "## 1. Valor Presente (PV)\n"
      ]
    },
    {
      "cell_type": "markdown",
      "metadata": {
        "id": "PO-eitJ5W2v6"
      },
      "source": [
        "$$PV = \\frac{FV}{(1+r)^n}$$"
      ]
    },
    {
      "cell_type": "markdown",
      "metadata": {
        "id": "GIRCv_fyqQT4"
      },
      "source": [
        "### Exemplo 1"
      ]
    },
    {
      "cell_type": "markdown",
      "metadata": {
        "id": "9twA9HUhTSVh"
      },
      "source": [
        "Se uma pessoa deseja obter R\\$ 20.000,00 dentro de um ano, quanto deverá ela depositar na poupança que rende 0,2% de juros compostos ao mês?"
      ]
    },
    {
      "cell_type": "markdown",
      "metadata": {
        "id": "4dh4g9ezVbG8"
      },
      "source": [
        "`npf.pv(rate, nper, pmt, fv=0, when='end')`"
      ]
    },
    {
      "cell_type": "code",
      "metadata": {
        "id": "cQt8rUMoNiF_"
      },
      "source": [
        "fv = -20000\n",
        "n = 12\n",
        "i = 0.002\n",
        "\n",
        "pv = npf.pv(i, n, 0, fv)"
      ],
      "execution_count": 3,
      "outputs": []
    },
    {
      "cell_type": "code",
      "metadata": {
        "colab": {
          "base_uri": "https://localhost:8080/"
        },
        "id": "iHIyzwlsSCul",
        "outputId": "1c3e56ea-9cf9-4e05-f6fc-200b53769575"
      },
      "source": [
        "print(f'Deposito Inicial Necessário = R$ {pv:.2f}')"
      ],
      "execution_count": 4,
      "outputs": [
        {
          "output_type": "stream",
          "text": [
            "Deposito Inicial Necessário = R$ 19526.18\n"
          ],
          "name": "stdout"
        }
      ]
    },
    {
      "cell_type": "markdown",
      "metadata": {
        "id": "Az9wGR-eWgIB"
      },
      "source": [
        "## 2. Valor Futuro (FV)"
      ]
    },
    {
      "cell_type": "markdown",
      "metadata": {
        "id": "mLRAbaRYWse-"
      },
      "source": [
        "$$FV = PV(1+r)^n$$"
      ]
    },
    {
      "cell_type": "markdown",
      "metadata": {
        "id": "9pPOVN-Hjzk3"
      },
      "source": [
        "### Exemplo 2"
      ]
    },
    {
      "cell_type": "markdown",
      "metadata": {
        "id": "0g-Vu6mbXQoU"
      },
      "source": [
        "Qual o valor de resgate ao aplicar R$ 10.000,00 em um investimento pelo prazo de 8 meses à taxa de juros composta de 0,5% a.m.?"
      ]
    },
    {
      "cell_type": "markdown",
      "metadata": {
        "id": "OsZgsetrXjzE"
      },
      "source": [
        "`npf.fv(rate, nper, pmt, pv, when='end')`"
      ]
    },
    {
      "cell_type": "code",
      "metadata": {
        "id": "cBjNjpdsXF53"
      },
      "source": [
        "pv = -10000\n",
        "n  = 8\n",
        "i  = 0.005\n",
        "\n",
        "fv = npf.fv(i, n, 0, pv)"
      ],
      "execution_count": 5,
      "outputs": []
    },
    {
      "cell_type": "code",
      "metadata": {
        "colab": {
          "base_uri": "https://localhost:8080/"
        },
        "id": "FAjVg5uCXwK0",
        "outputId": "911f2c37-1818-4860-cda6-268b1f1f4d33"
      },
      "source": [
        "print(f'Valor de Resgate = R$ {fv:.2f}')"
      ],
      "execution_count": 6,
      "outputs": [
        {
          "output_type": "stream",
          "text": [
            "Valor de Resgate = R$ 10407.07\n"
          ],
          "name": "stdout"
        }
      ]
    },
    {
      "cell_type": "markdown",
      "metadata": {
        "id": "7U_jTKKLkSjm"
      },
      "source": [
        "## 3. Valor Presente Líquido (NPV)"
      ]
    },
    {
      "cell_type": "markdown",
      "metadata": {
        "id": "SlhJXLk8kV5O"
      },
      "source": [
        "$$\n",
        "NPV = \\sum_{j=1}^n{\\frac{FC_j}{(1+i)^j}}- FC_0\n",
        "$$"
      ]
    },
    {
      "cell_type": "markdown",
      "metadata": {
        "id": "jhtGay5VmPCp"
      },
      "source": [
        "Pode-se resumir o VPL como:\n",
        "\n",
        "|NPV|Caraterística|\n",
        "|---|:---|\n",
        "| negativo | investimento gera prejuízo |\n",
        "| positivo | investimento gera lucro |\n"
      ]
    },
    {
      "cell_type": "markdown",
      "metadata": {
        "id": "6h6Lj3pklBWN"
      },
      "source": [
        "### Exemplo 3"
      ]
    },
    {
      "cell_type": "markdown",
      "metadata": {
        "id": "J0HfOrbinRVI"
      },
      "source": [
        "Uma empresa esteja avaliando um investimento no valor de R\\$ 750.000,00 do qual esperam-se benefícios anuais de caixa de R\\$ 250.000,00 no primeiro ano, R$ 320.000,00 no segundo ano, R\\$ 380.000,00 no terceiro ano e R\\$ 280.000,00 no quarto ano."
      ]
    },
    {
      "cell_type": "markdown",
      "metadata": {
        "id": "CeF6IezyoQEM"
      },
      "source": [
        "A empresa definiu em 20% ao ano a taxa de desconto a ser aplicada aos fluxos de caixa do investimento."
      ]
    },
    {
      "cell_type": "markdown",
      "metadata": {
        "id": "eWBbn76VoY3D"
      },
      "source": [
        "### Diagrama de Fluxo de Caixa"
      ]
    },
    {
      "cell_type": "markdown",
      "metadata": {
        "id": "_xBmrMWaocoj"
      },
      "source": [
        "![image.png](data:image/png;base64,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)"
      ]
    },
    {
      "cell_type": "markdown",
      "metadata": {
        "id": "IC5WsQpooEjT"
      },
      "source": [
        "`nfp.npv(rate, values)`"
      ]
    },
    {
      "cell_type": "code",
      "metadata": {
        "id": "NmivqhpglCxL"
      },
      "source": [
        "vpl = npf.npv(0.2, [-750000, 250000, 320000, 380000, 280000])"
      ],
      "execution_count": 7,
      "outputs": []
    },
    {
      "cell_type": "code",
      "metadata": {
        "colab": {
          "base_uri": "https://localhost:8080/"
        },
        "id": "GQGHNGPoouqx",
        "outputId": "b804d30e-0ad7-450c-8ca5-0480302d9a80"
      },
      "source": [
        "print(f'VPL = R${vpl:.2f}')"
      ],
      "execution_count": 8,
      "outputs": [
        {
          "output_type": "stream",
          "text": [
            "VPL = R$35493.83\n"
          ],
          "name": "stdout"
        }
      ]
    },
    {
      "cell_type": "markdown",
      "metadata": {
        "id": "MmiFpCD4ZQMb"
      },
      "source": [
        "## 4. Taxa Interna de Retorno (IRR)"
      ]
    },
    {
      "cell_type": "markdown",
      "metadata": {
        "id": "617suuaHsTDX"
      },
      "source": [
        "A **taxa interna de retorno** é uma taxa de desconto hipotética que, quando aplicada a um fluxo de caixa, faz com que os valores das despesas, trazidos ao valor presente, seja igual aos valores dos retornos dos investimentos, também trazidos ao valor presente"
      ]
    },
    {
      "cell_type": "markdown",
      "metadata": {
        "id": "qDQf0Yl8js6n"
      },
      "source": [
        "### Exemplo 4"
      ]
    },
    {
      "cell_type": "markdown",
      "metadata": {
        "id": "Lg1hhUT4Zzy9"
      },
      "source": [
        "Admita que um investimento de R\\$ 70.000,00 gere caixa de R\\$ 20.000,00, R\\$ 40.000,00, R\\$ 45.000,00 e R\\$ 30.000,00, respectivamente, ao final dos próximos quatro anos.\n"
      ]
    },
    {
      "cell_type": "markdown",
      "metadata": {
        "id": "lu8B-pV5bCmM"
      },
      "source": [
        "### Diagrama de Fluxo de Caixa"
      ]
    },
    {
      "cell_type": "markdown",
      "metadata": {
        "id": "G-0LXQhda-TA"
      },
      "source": [
        "![image.png](data:image/png;base64,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)"
      ]
    },
    {
      "cell_type": "markdown",
      "metadata": {
        "id": "OiVYHwzjkKMr"
      },
      "source": [
        "`npf.irr()`"
      ]
    },
    {
      "cell_type": "code",
      "metadata": {
        "id": "S_-4g2Webiqn"
      },
      "source": [
        "tir = npf.irr([-70000, 20000, 40000, 45000, 30000])"
      ],
      "execution_count": 9,
      "outputs": []
    },
    {
      "cell_type": "code",
      "metadata": {
        "colab": {
          "base_uri": "https://localhost:8080/"
        },
        "id": "KjlKfA6qb_uE",
        "outputId": "b8afa47d-258a-4808-8d1a-d4770ea88490"
      },
      "source": [
        "print(f'Taxa Interna de Retorno = {tir:.2%}')"
      ],
      "execution_count": 10,
      "outputs": [
        {
          "output_type": "stream",
          "text": [
            "Taxa Interna de Retorno = 30.03%\n"
          ],
          "name": "stdout"
        }
      ]
    }
  ]
}