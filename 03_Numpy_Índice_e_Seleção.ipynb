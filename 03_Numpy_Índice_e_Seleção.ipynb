{
  "nbformat": 4,
  "nbformat_minor": 0,
  "metadata": {
    "anaconda-cloud": {},
    "kernelspec": {
      "display_name": "Python 3",
      "language": "python",
      "name": "python3"
    },
    "language_info": {
      "codemirror_mode": {
        "name": "ipython",
        "version": 3
      },
      "file_extension": ".py",
      "mimetype": "text/x-python",
      "name": "python",
      "nbconvert_exporter": "python",
      "pygments_lexer": "ipython3",
      "version": "3.7.7"
    },
    "colab": {
      "name": "03 Numpy Índice e Seleção.ipynb",
      "provenance": [],
      "collapsed_sections": [],
      "include_colab_link": true
    }
  },
  "cells": [
    {
      "cell_type": "markdown",
      "metadata": {
        "id": "view-in-github",
        "colab_type": "text"
      },
      "source": [
        "<a href=\"https://colab.research.google.com/github/Bonacelli/Finance/blob/main/03_Numpy_%C3%8Dndice_e_Sele%C3%A7%C3%A3o.ipynb\" target=\"_parent\"><img src=\"https://colab.research.google.com/assets/colab-badge.svg\" alt=\"Open In Colab\"/></a>"
      ]
    },
    {
      "cell_type": "markdown",
      "metadata": {
        "id": "a8q4co2NCO91"
      },
      "source": [
        "# NumPy - Indexação e Seleção"
      ]
    },
    {
      "cell_type": "code",
      "metadata": {
        "id": "B4wgbe1qCO92"
      },
      "source": [
        "import numpy as np"
      ],
      "execution_count": 1,
      "outputs": []
    },
    {
      "cell_type": "code",
      "metadata": {
        "id": "f0ke_TJJCO98"
      },
      "source": [
        "vetor = np.arange(1,25,3)"
      ],
      "execution_count": 14,
      "outputs": []
    },
    {
      "cell_type": "code",
      "metadata": {
        "id": "pnUmX-PcCO9-",
        "colab": {
          "base_uri": "https://localhost:8080/"
        },
        "outputId": "4f46292d-5bd2-4662-bc3e-4eeaaaa76717"
      },
      "source": [
        "vetor"
      ],
      "execution_count": 3,
      "outputs": [
        {
          "output_type": "execute_result",
          "data": {
            "text/plain": [
              "array([ 1,  4,  7, 10, 13, 16, 19, 22])"
            ]
          },
          "metadata": {
            "tags": []
          },
          "execution_count": 3
        }
      ]
    },
    {
      "cell_type": "markdown",
      "metadata": {
        "id": "JkrsDCdtCO-D"
      },
      "source": [
        "## Indexação e seleção por colchetes"
      ]
    },
    {
      "cell_type": "markdown",
      "metadata": {
        "id": "CtJ9XFKIBGZo"
      },
      "source": [
        "Muito semelhante às listas Python:\n",
        "\n",
        "`vetor[inicio : fim : passo]`"
      ]
    },
    {
      "cell_type": "code",
      "metadata": {
        "id": "OO8gYwDtCO-D",
        "colab": {
          "base_uri": "https://localhost:8080/"
        },
        "outputId": "aac4e043-ca0b-4085-db81-d51dfa778f29"
      },
      "source": [
        "vetor[2]"
      ],
      "execution_count": 4,
      "outputs": [
        {
          "output_type": "execute_result",
          "data": {
            "text/plain": [
              "7"
            ]
          },
          "metadata": {
            "tags": []
          },
          "execution_count": 4
        }
      ]
    },
    {
      "cell_type": "code",
      "metadata": {
        "id": "Lvi-h6V0CO-F",
        "colab": {
          "base_uri": "https://localhost:8080/"
        },
        "outputId": "39849c80-be98-4fd1-b5bd-296cb263f44e"
      },
      "source": [
        "vetor[0:3]"
      ],
      "execution_count": 5,
      "outputs": [
        {
          "output_type": "execute_result",
          "data": {
            "text/plain": [
              "array([1, 4, 7])"
            ]
          },
          "metadata": {
            "tags": []
          },
          "execution_count": 5
        }
      ]
    },
    {
      "cell_type": "code",
      "metadata": {
        "id": "tY0hAZwOBWtu",
        "colab": {
          "base_uri": "https://localhost:8080/"
        },
        "outputId": "318d05e6-4516-41da-a68b-926161bbfd36"
      },
      "source": [
        "vetor[:6:2]"
      ],
      "execution_count": 6,
      "outputs": [
        {
          "output_type": "execute_result",
          "data": {
            "text/plain": [
              "array([ 1,  7, 13])"
            ]
          },
          "metadata": {
            "tags": []
          },
          "execution_count": 6
        }
      ]
    },
    {
      "cell_type": "code",
      "metadata": {
        "id": "8lejb_IqBb9S",
        "colab": {
          "base_uri": "https://localhost:8080/"
        },
        "outputId": "edaccd0b-89f5-4214-97b7-e00c7d722028"
      },
      "source": [
        "vetor[::-1]"
      ],
      "execution_count": 7,
      "outputs": [
        {
          "output_type": "execute_result",
          "data": {
            "text/plain": [
              "array([22, 19, 16, 13, 10,  7,  4,  1])"
            ]
          },
          "metadata": {
            "tags": []
          },
          "execution_count": 7
        }
      ]
    },
    {
      "cell_type": "markdown",
      "metadata": {
        "id": "pUiNSqjiA2MK"
      },
      "source": [
        "### Atribuição de Valores"
      ]
    },
    {
      "cell_type": "code",
      "metadata": {
        "id": "2f5ucTPSIxPS",
        "colab": {
          "base_uri": "https://localhost:8080/"
        },
        "outputId": "541388a9-2f1b-488a-9b58-c1aa8dce0b56"
      },
      "source": [
        "vetor"
      ],
      "execution_count": 8,
      "outputs": [
        {
          "output_type": "execute_result",
          "data": {
            "text/plain": [
              "array([ 1,  4,  7, 10, 13, 16, 19, 22])"
            ]
          },
          "metadata": {
            "tags": []
          },
          "execution_count": 8
        }
      ]
    },
    {
      "cell_type": "code",
      "metadata": {
        "id": "E0MY4BmyCO-L",
        "colab": {
          "base_uri": "https://localhost:8080/"
        },
        "outputId": "47389bc0-9aef-467f-8bc4-aa16e683463a"
      },
      "source": [
        "vetor[:3] = 100\n",
        "vetor"
      ],
      "execution_count": 9,
      "outputs": [
        {
          "output_type": "execute_result",
          "data": {
            "text/plain": [
              "array([100, 100, 100,  10,  13,  16,  19,  22])"
            ]
          },
          "metadata": {
            "tags": []
          },
          "execution_count": 9
        }
      ]
    },
    {
      "cell_type": "code",
      "metadata": {
        "id": "r_cV9LyQCO-Q",
        "colab": {
          "base_uri": "https://localhost:8080/"
        },
        "outputId": "ac6e3a98-eae1-4805-bc1e-9285bf8cf254"
      },
      "source": [
        "vetor_novo = vetor[:3]\n",
        "vetor_novo"
      ],
      "execution_count": 10,
      "outputs": [
        {
          "output_type": "execute_result",
          "data": {
            "text/plain": [
              "array([100, 100, 100])"
            ]
          },
          "metadata": {
            "tags": []
          },
          "execution_count": 10
        }
      ]
    },
    {
      "cell_type": "code",
      "metadata": {
        "id": "aESQW83ACO-S",
        "colab": {
          "base_uri": "https://localhost:8080/"
        },
        "outputId": "6d26c66c-8835-490b-ffe9-62fa514f5213"
      },
      "source": [
        "vetor_novo[:] = 99\n",
        "vetor_novo"
      ],
      "execution_count": 11,
      "outputs": [
        {
          "output_type": "execute_result",
          "data": {
            "text/plain": [
              "array([99, 99, 99])"
            ]
          },
          "metadata": {
            "tags": []
          },
          "execution_count": 11
        }
      ]
    },
    {
      "cell_type": "code",
      "metadata": {
        "id": "Bm-yY-FkCO-U",
        "colab": {
          "base_uri": "https://localhost:8080/"
        },
        "outputId": "925dff06-47fb-4ddd-c489-51851aa0fb7c"
      },
      "source": [
        "vetor"
      ],
      "execution_count": 12,
      "outputs": [
        {
          "output_type": "execute_result",
          "data": {
            "text/plain": [
              "array([99, 99, 99, 10, 13, 16, 19, 22])"
            ]
          },
          "metadata": {
            "tags": []
          },
          "execution_count": 12
        }
      ]
    },
    {
      "cell_type": "code",
      "metadata": {
        "id": "6fmXlk7rCO-X",
        "colab": {
          "base_uri": "https://localhost:8080/"
        },
        "outputId": "9a5974d6-17f7-481a-b1c3-730ae57cf9b9"
      },
      "source": [
        "vetor_novo = vetor.copy()\n",
        "vetor_novo"
      ],
      "execution_count": 15,
      "outputs": [
        {
          "output_type": "execute_result",
          "data": {
            "text/plain": [
              "array([ 1,  4,  7, 10, 13, 16, 19, 22])"
            ]
          },
          "metadata": {
            "tags": []
          },
          "execution_count": 15
        }
      ]
    },
    {
      "cell_type": "markdown",
      "metadata": {
        "id": "ijmfCTWrCO-a"
      },
      "source": [
        "## Selecionando Elementos em Matrizes"
      ]
    },
    {
      "cell_type": "code",
      "metadata": {
        "id": "3IDaKTPICO-a"
      },
      "source": [
        "matriz = np.array(([5,10,15], [20,25,30],[35,40,45]))"
      ],
      "execution_count": 16,
      "outputs": []
    },
    {
      "cell_type": "code",
      "metadata": {
        "id": "_Mg9jDGUCO-e",
        "colab": {
          "base_uri": "https://localhost:8080/"
        },
        "outputId": "44a9df4f-acc5-468f-8971-67e29121b350"
      },
      "source": [
        "matriz"
      ],
      "execution_count": 17,
      "outputs": [
        {
          "output_type": "execute_result",
          "data": {
            "text/plain": [
              "array([[ 5, 10, 15],\n",
              "       [20, 25, 30],\n",
              "       [35, 40, 45]])"
            ]
          },
          "metadata": {
            "tags": []
          },
          "execution_count": 17
        }
      ]
    },
    {
      "cell_type": "code",
      "metadata": {
        "id": "9Eb3dGeCCO-g",
        "colab": {
          "base_uri": "https://localhost:8080/"
        },
        "outputId": "3a74a57d-ac9e-46a2-d799-6ec23049a177"
      },
      "source": [
        "matriz[0]"
      ],
      "execution_count": 19,
      "outputs": [
        {
          "output_type": "execute_result",
          "data": {
            "text/plain": [
              "array([ 5, 10, 15])"
            ]
          },
          "metadata": {
            "tags": []
          },
          "execution_count": 19
        }
      ]
    },
    {
      "cell_type": "code",
      "metadata": {
        "id": "1cYiFhHSeNhO",
        "colab": {
          "base_uri": "https://localhost:8080/"
        },
        "outputId": "0d8494ac-fc5e-44ca-9660-28ac86d07ea0"
      },
      "source": [
        "matriz[1][1]"
      ],
      "execution_count": 20,
      "outputs": [
        {
          "output_type": "execute_result",
          "data": {
            "text/plain": [
              "25"
            ]
          },
          "metadata": {
            "tags": []
          },
          "execution_count": 20
        }
      ]
    },
    {
      "cell_type": "code",
      "metadata": {
        "id": "U5B2nRGvKxYt",
        "colab": {
          "base_uri": "https://localhost:8080/"
        },
        "outputId": "773af3b7-bdcd-4870-e4c0-9808f036b3ab"
      },
      "source": [
        "matriz[1,1]"
      ],
      "execution_count": 21,
      "outputs": [
        {
          "output_type": "execute_result",
          "data": {
            "text/plain": [
              "25"
            ]
          },
          "metadata": {
            "tags": []
          },
          "execution_count": 21
        }
      ]
    },
    {
      "cell_type": "code",
      "metadata": {
        "id": "9cyNZzWJCO-l",
        "colab": {
          "base_uri": "https://localhost:8080/"
        },
        "outputId": "bc4968be-0bd0-4085-cdd7-0dead20c1cdb"
      },
      "source": [
        "matriz[:,0]"
      ],
      "execution_count": 22,
      "outputs": [
        {
          "output_type": "execute_result",
          "data": {
            "text/plain": [
              "array([ 5, 20, 35])"
            ]
          },
          "metadata": {
            "tags": []
          },
          "execution_count": 22
        }
      ]
    },
    {
      "cell_type": "code",
      "metadata": {
        "id": "NwwfZr6rKa7u",
        "colab": {
          "base_uri": "https://localhost:8080/"
        },
        "outputId": "8b4a949a-95d9-4492-9eb3-4e07286f7f7a"
      },
      "source": [
        "matriz[1:,1:]"
      ],
      "execution_count": 23,
      "outputs": [
        {
          "output_type": "execute_result",
          "data": {
            "text/plain": [
              "array([[25, 30],\n",
              "       [40, 45]])"
            ]
          },
          "metadata": {
            "tags": []
          },
          "execution_count": 23
        }
      ]
    },
    {
      "cell_type": "markdown",
      "metadata": {
        "id": "cC2IcwC6CO-s"
      },
      "source": [
        "## Seleção Condicional"
      ]
    },
    {
      "cell_type": "code",
      "metadata": {
        "id": "DkBX3zw9CO-s",
        "colab": {
          "base_uri": "https://localhost:8080/"
        },
        "outputId": "68eb94a8-79cd-4180-9206-51dcd13e457c"
      },
      "source": [
        "vetor"
      ],
      "execution_count": 25,
      "outputs": [
        {
          "output_type": "execute_result",
          "data": {
            "text/plain": [
              "array([ 1,  4,  7, 10, 13, 16, 19, 22])"
            ]
          },
          "metadata": {
            "tags": []
          },
          "execution_count": 25
        }
      ]
    },
    {
      "cell_type": "code",
      "metadata": {
        "id": "PTaPnJKgCO-u",
        "colab": {
          "base_uri": "https://localhost:8080/"
        },
        "outputId": "9f4eb92f-3fc0-41f9-b2c7-844181f81f68"
      },
      "source": [
        "vetor > 5"
      ],
      "execution_count": 26,
      "outputs": [
        {
          "output_type": "execute_result",
          "data": {
            "text/plain": [
              "array([False, False,  True,  True,  True,  True,  True,  True])"
            ]
          },
          "metadata": {
            "tags": []
          },
          "execution_count": 26
        }
      ]
    },
    {
      "cell_type": "code",
      "metadata": {
        "id": "FsX5G71kCO-w"
      },
      "source": [
        "filtro = vetor > 5"
      ],
      "execution_count": 27,
      "outputs": []
    },
    {
      "cell_type": "code",
      "metadata": {
        "id": "uyChkkztCO-y",
        "colab": {
          "base_uri": "https://localhost:8080/"
        },
        "outputId": "39a877f8-0ee6-42f8-b5b9-88e204241764"
      },
      "source": [
        "vetor[filtro]"
      ],
      "execution_count": 28,
      "outputs": [
        {
          "output_type": "execute_result",
          "data": {
            "text/plain": [
              "array([ 7, 10, 13, 16, 19, 22])"
            ]
          },
          "metadata": {
            "tags": []
          },
          "execution_count": 28
        }
      ]
    },
    {
      "cell_type": "code",
      "metadata": {
        "id": "SsFNWf8BCO-z",
        "colab": {
          "base_uri": "https://localhost:8080/"
        },
        "outputId": "18c708d0-f282-440e-ee1e-78549ad80f4a"
      },
      "source": [
        "vetor[vetor > 10]"
      ],
      "execution_count": 29,
      "outputs": [
        {
          "output_type": "execute_result",
          "data": {
            "text/plain": [
              "array([13, 16, 19, 22])"
            ]
          },
          "metadata": {
            "tags": []
          },
          "execution_count": 29
        }
      ]
    },
    {
      "cell_type": "code",
      "metadata": {
        "id": "Bs4qj-4CCO-2",
        "colab": {
          "base_uri": "https://localhost:8080/"
        },
        "outputId": "3d1fb725-9362-4930-b478-56aead9d6378"
      },
      "source": [
        "vetor[vetor < 5]"
      ],
      "execution_count": 30,
      "outputs": [
        {
          "output_type": "execute_result",
          "data": {
            "text/plain": [
              "array([1, 4])"
            ]
          },
          "metadata": {
            "tags": []
          },
          "execution_count": 30
        }
      ]
    }
  ]
}